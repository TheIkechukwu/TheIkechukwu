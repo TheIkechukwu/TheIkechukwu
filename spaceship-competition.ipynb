{
 "cells": [
  {
   "cell_type": "code",
   "execution_count": 1,
   "id": "75c332eb",
   "metadata": {
    "execution": {
     "iopub.execute_input": "2025-02-18T10:54:04.820906Z",
     "iopub.status.busy": "2025-02-18T10:54:04.820512Z",
     "iopub.status.idle": "2025-02-18T10:54:07.609918Z",
     "shell.execute_reply": "2025-02-18T10:54:07.608974Z"
    },
    "papermill": {
     "duration": 2.799074,
     "end_time": "2025-02-18T10:54:07.611927",
     "exception": false,
     "start_time": "2025-02-18T10:54:04.812853",
     "status": "completed"
    },
    "tags": []
   },
   "outputs": [],
   "source": [
    "import pandas as pd\n",
    "import numpy as np\n",
    "import matplotlib.pyplot as plt\n",
    "import seaborn as sns"
   ]
  },
  {
   "cell_type": "code",
   "execution_count": 2,
   "id": "a44a8ef5",
   "metadata": {
    "execution": {
     "iopub.execute_input": "2025-02-18T10:54:07.624544Z",
     "iopub.status.busy": "2025-02-18T10:54:07.624007Z",
     "iopub.status.idle": "2025-02-18T10:54:07.707518Z",
     "shell.execute_reply": "2025-02-18T10:54:07.706540Z"
    },
    "papermill": {
     "duration": 0.091526,
     "end_time": "2025-02-18T10:54:07.709343",
     "exception": false,
     "start_time": "2025-02-18T10:54:07.617817",
     "status": "completed"
    },
    "tags": []
   },
   "outputs": [],
   "source": [
    "train_data = pd.read_csv('/kaggle/input/spaceship-titanic/train.csv')\n",
    "test_data = pd.read_csv('/kaggle/input/spaceship-titanic/test.csv')"
   ]
  },
  {
   "cell_type": "code",
   "execution_count": 3,
   "id": "811034a6",
   "metadata": {
    "execution": {
     "iopub.execute_input": "2025-02-18T10:54:07.721350Z",
     "iopub.status.busy": "2025-02-18T10:54:07.721029Z",
     "iopub.status.idle": "2025-02-18T10:54:07.754369Z",
     "shell.execute_reply": "2025-02-18T10:54:07.753358Z"
    },
    "papermill": {
     "duration": 0.041223,
     "end_time": "2025-02-18T10:54:07.756104",
     "exception": false,
     "start_time": "2025-02-18T10:54:07.714881",
     "status": "completed"
    },
    "tags": []
   },
   "outputs": [
    {
     "data": {
      "text/html": [
       "<div>\n",
       "<style scoped>\n",
       "    .dataframe tbody tr th:only-of-type {\n",
       "        vertical-align: middle;\n",
       "    }\n",
       "\n",
       "    .dataframe tbody tr th {\n",
       "        vertical-align: top;\n",
       "    }\n",
       "\n",
       "    .dataframe thead th {\n",
       "        text-align: right;\n",
       "    }\n",
       "</style>\n",
       "<table border=\"1\" class=\"dataframe\">\n",
       "  <thead>\n",
       "    <tr style=\"text-align: right;\">\n",
       "      <th></th>\n",
       "      <th>PassengerId</th>\n",
       "      <th>HomePlanet</th>\n",
       "      <th>CryoSleep</th>\n",
       "      <th>Cabin</th>\n",
       "      <th>Destination</th>\n",
       "      <th>Age</th>\n",
       "      <th>VIP</th>\n",
       "      <th>RoomService</th>\n",
       "      <th>FoodCourt</th>\n",
       "      <th>ShoppingMall</th>\n",
       "      <th>Spa</th>\n",
       "      <th>VRDeck</th>\n",
       "      <th>Name</th>\n",
       "      <th>Transported</th>\n",
       "    </tr>\n",
       "  </thead>\n",
       "  <tbody>\n",
       "    <tr>\n",
       "      <th>0</th>\n",
       "      <td>0001_01</td>\n",
       "      <td>Europa</td>\n",
       "      <td>False</td>\n",
       "      <td>B/0/P</td>\n",
       "      <td>TRAPPIST-1e</td>\n",
       "      <td>39.0</td>\n",
       "      <td>False</td>\n",
       "      <td>0.0</td>\n",
       "      <td>0.0</td>\n",
       "      <td>0.0</td>\n",
       "      <td>0.0</td>\n",
       "      <td>0.0</td>\n",
       "      <td>Maham Ofracculy</td>\n",
       "      <td>False</td>\n",
       "    </tr>\n",
       "    <tr>\n",
       "      <th>1</th>\n",
       "      <td>0002_01</td>\n",
       "      <td>Earth</td>\n",
       "      <td>False</td>\n",
       "      <td>F/0/S</td>\n",
       "      <td>TRAPPIST-1e</td>\n",
       "      <td>24.0</td>\n",
       "      <td>False</td>\n",
       "      <td>109.0</td>\n",
       "      <td>9.0</td>\n",
       "      <td>25.0</td>\n",
       "      <td>549.0</td>\n",
       "      <td>44.0</td>\n",
       "      <td>Juanna Vines</td>\n",
       "      <td>True</td>\n",
       "    </tr>\n",
       "    <tr>\n",
       "      <th>2</th>\n",
       "      <td>0003_01</td>\n",
       "      <td>Europa</td>\n",
       "      <td>False</td>\n",
       "      <td>A/0/S</td>\n",
       "      <td>TRAPPIST-1e</td>\n",
       "      <td>58.0</td>\n",
       "      <td>True</td>\n",
       "      <td>43.0</td>\n",
       "      <td>3576.0</td>\n",
       "      <td>0.0</td>\n",
       "      <td>6715.0</td>\n",
       "      <td>49.0</td>\n",
       "      <td>Altark Susent</td>\n",
       "      <td>False</td>\n",
       "    </tr>\n",
       "    <tr>\n",
       "      <th>3</th>\n",
       "      <td>0003_02</td>\n",
       "      <td>Europa</td>\n",
       "      <td>False</td>\n",
       "      <td>A/0/S</td>\n",
       "      <td>TRAPPIST-1e</td>\n",
       "      <td>33.0</td>\n",
       "      <td>False</td>\n",
       "      <td>0.0</td>\n",
       "      <td>1283.0</td>\n",
       "      <td>371.0</td>\n",
       "      <td>3329.0</td>\n",
       "      <td>193.0</td>\n",
       "      <td>Solam Susent</td>\n",
       "      <td>False</td>\n",
       "    </tr>\n",
       "    <tr>\n",
       "      <th>4</th>\n",
       "      <td>0004_01</td>\n",
       "      <td>Earth</td>\n",
       "      <td>False</td>\n",
       "      <td>F/1/S</td>\n",
       "      <td>TRAPPIST-1e</td>\n",
       "      <td>16.0</td>\n",
       "      <td>False</td>\n",
       "      <td>303.0</td>\n",
       "      <td>70.0</td>\n",
       "      <td>151.0</td>\n",
       "      <td>565.0</td>\n",
       "      <td>2.0</td>\n",
       "      <td>Willy Santantines</td>\n",
       "      <td>True</td>\n",
       "    </tr>\n",
       "  </tbody>\n",
       "</table>\n",
       "</div>"
      ],
      "text/plain": [
       "  PassengerId HomePlanet CryoSleep  Cabin  Destination   Age    VIP  \\\n",
       "0     0001_01     Europa     False  B/0/P  TRAPPIST-1e  39.0  False   \n",
       "1     0002_01      Earth     False  F/0/S  TRAPPIST-1e  24.0  False   \n",
       "2     0003_01     Europa     False  A/0/S  TRAPPIST-1e  58.0   True   \n",
       "3     0003_02     Europa     False  A/0/S  TRAPPIST-1e  33.0  False   \n",
       "4     0004_01      Earth     False  F/1/S  TRAPPIST-1e  16.0  False   \n",
       "\n",
       "   RoomService  FoodCourt  ShoppingMall     Spa  VRDeck               Name  \\\n",
       "0          0.0        0.0           0.0     0.0     0.0    Maham Ofracculy   \n",
       "1        109.0        9.0          25.0   549.0    44.0       Juanna Vines   \n",
       "2         43.0     3576.0           0.0  6715.0    49.0      Altark Susent   \n",
       "3          0.0     1283.0         371.0  3329.0   193.0       Solam Susent   \n",
       "4        303.0       70.0         151.0   565.0     2.0  Willy Santantines   \n",
       "\n",
       "   Transported  \n",
       "0        False  \n",
       "1         True  \n",
       "2        False  \n",
       "3        False  \n",
       "4         True  "
      ]
     },
     "execution_count": 3,
     "metadata": {},
     "output_type": "execute_result"
    }
   ],
   "source": [
    "train_data.head()"
   ]
  },
  {
   "cell_type": "code",
   "execution_count": 4,
   "id": "19d7820f",
   "metadata": {
    "execution": {
     "iopub.execute_input": "2025-02-18T10:54:07.768557Z",
     "iopub.status.busy": "2025-02-18T10:54:07.768159Z",
     "iopub.status.idle": "2025-02-18T10:54:07.798507Z",
     "shell.execute_reply": "2025-02-18T10:54:07.797354Z"
    },
    "papermill": {
     "duration": 0.038411,
     "end_time": "2025-02-18T10:54:07.800202",
     "exception": false,
     "start_time": "2025-02-18T10:54:07.761791",
     "status": "completed"
    },
    "tags": []
   },
   "outputs": [
    {
     "name": "stdout",
     "output_type": "stream",
     "text": [
      "<class 'pandas.core.frame.DataFrame'>\n",
      "RangeIndex: 8693 entries, 0 to 8692\n",
      "Data columns (total 14 columns):\n",
      " #   Column        Non-Null Count  Dtype  \n",
      "---  ------        --------------  -----  \n",
      " 0   PassengerId   8693 non-null   object \n",
      " 1   HomePlanet    8492 non-null   object \n",
      " 2   CryoSleep     8476 non-null   object \n",
      " 3   Cabin         8494 non-null   object \n",
      " 4   Destination   8511 non-null   object \n",
      " 5   Age           8514 non-null   float64\n",
      " 6   VIP           8490 non-null   object \n",
      " 7   RoomService   8512 non-null   float64\n",
      " 8   FoodCourt     8510 non-null   float64\n",
      " 9   ShoppingMall  8485 non-null   float64\n",
      " 10  Spa           8510 non-null   float64\n",
      " 11  VRDeck        8505 non-null   float64\n",
      " 12  Name          8493 non-null   object \n",
      " 13  Transported   8693 non-null   bool   \n",
      "dtypes: bool(1), float64(6), object(7)\n",
      "memory usage: 891.5+ KB\n"
     ]
    }
   ],
   "source": [
    "train_data.info()"
   ]
  },
  {
   "cell_type": "code",
   "execution_count": 5,
   "id": "a5b9725a",
   "metadata": {
    "execution": {
     "iopub.execute_input": "2025-02-18T10:54:07.814239Z",
     "iopub.status.busy": "2025-02-18T10:54:07.813854Z",
     "iopub.status.idle": "2025-02-18T10:54:07.825960Z",
     "shell.execute_reply": "2025-02-18T10:54:07.824818Z"
    },
    "papermill": {
     "duration": 0.021059,
     "end_time": "2025-02-18T10:54:07.827704",
     "exception": false,
     "start_time": "2025-02-18T10:54:07.806645",
     "status": "completed"
    },
    "tags": []
   },
   "outputs": [
    {
     "data": {
      "text/plain": [
       "PassengerId       0\n",
       "HomePlanet      201\n",
       "CryoSleep       217\n",
       "Cabin           199\n",
       "Destination     182\n",
       "Age             179\n",
       "VIP             203\n",
       "RoomService     181\n",
       "FoodCourt       183\n",
       "ShoppingMall    208\n",
       "Spa             183\n",
       "VRDeck          188\n",
       "Name            200\n",
       "Transported       0\n",
       "dtype: int64"
      ]
     },
     "execution_count": 5,
     "metadata": {},
     "output_type": "execute_result"
    }
   ],
   "source": [
    "train_data.isnull().sum()"
   ]
  },
  {
   "cell_type": "code",
   "execution_count": 6,
   "id": "d33f067a",
   "metadata": {
    "execution": {
     "iopub.execute_input": "2025-02-18T10:54:07.840838Z",
     "iopub.status.busy": "2025-02-18T10:54:07.840500Z",
     "iopub.status.idle": "2025-02-18T10:54:07.857422Z",
     "shell.execute_reply": "2025-02-18T10:54:07.856363Z"
    },
    "papermill": {
     "duration": 0.025185,
     "end_time": "2025-02-18T10:54:07.859055",
     "exception": false,
     "start_time": "2025-02-18T10:54:07.833870",
     "status": "completed"
    },
    "tags": []
   },
   "outputs": [
    {
     "data": {
      "text/html": [
       "<div>\n",
       "<style scoped>\n",
       "    .dataframe tbody tr th:only-of-type {\n",
       "        vertical-align: middle;\n",
       "    }\n",
       "\n",
       "    .dataframe tbody tr th {\n",
       "        vertical-align: top;\n",
       "    }\n",
       "\n",
       "    .dataframe thead th {\n",
       "        text-align: right;\n",
       "    }\n",
       "</style>\n",
       "<table border=\"1\" class=\"dataframe\">\n",
       "  <thead>\n",
       "    <tr style=\"text-align: right;\">\n",
       "      <th></th>\n",
       "      <th>PassengerId</th>\n",
       "      <th>HomePlanet</th>\n",
       "      <th>CryoSleep</th>\n",
       "      <th>Cabin</th>\n",
       "      <th>Destination</th>\n",
       "      <th>Age</th>\n",
       "      <th>VIP</th>\n",
       "      <th>RoomService</th>\n",
       "      <th>FoodCourt</th>\n",
       "      <th>ShoppingMall</th>\n",
       "      <th>Spa</th>\n",
       "      <th>VRDeck</th>\n",
       "      <th>Name</th>\n",
       "    </tr>\n",
       "  </thead>\n",
       "  <tbody>\n",
       "    <tr>\n",
       "      <th>0</th>\n",
       "      <td>0013_01</td>\n",
       "      <td>Earth</td>\n",
       "      <td>True</td>\n",
       "      <td>G/3/S</td>\n",
       "      <td>TRAPPIST-1e</td>\n",
       "      <td>27.0</td>\n",
       "      <td>False</td>\n",
       "      <td>0.0</td>\n",
       "      <td>0.0</td>\n",
       "      <td>0.0</td>\n",
       "      <td>0.0</td>\n",
       "      <td>0.0</td>\n",
       "      <td>Nelly Carsoning</td>\n",
       "    </tr>\n",
       "    <tr>\n",
       "      <th>1</th>\n",
       "      <td>0018_01</td>\n",
       "      <td>Earth</td>\n",
       "      <td>False</td>\n",
       "      <td>F/4/S</td>\n",
       "      <td>TRAPPIST-1e</td>\n",
       "      <td>19.0</td>\n",
       "      <td>False</td>\n",
       "      <td>0.0</td>\n",
       "      <td>9.0</td>\n",
       "      <td>0.0</td>\n",
       "      <td>2823.0</td>\n",
       "      <td>0.0</td>\n",
       "      <td>Lerome Peckers</td>\n",
       "    </tr>\n",
       "    <tr>\n",
       "      <th>2</th>\n",
       "      <td>0019_01</td>\n",
       "      <td>Europa</td>\n",
       "      <td>True</td>\n",
       "      <td>C/0/S</td>\n",
       "      <td>55 Cancri e</td>\n",
       "      <td>31.0</td>\n",
       "      <td>False</td>\n",
       "      <td>0.0</td>\n",
       "      <td>0.0</td>\n",
       "      <td>0.0</td>\n",
       "      <td>0.0</td>\n",
       "      <td>0.0</td>\n",
       "      <td>Sabih Unhearfus</td>\n",
       "    </tr>\n",
       "    <tr>\n",
       "      <th>3</th>\n",
       "      <td>0021_01</td>\n",
       "      <td>Europa</td>\n",
       "      <td>False</td>\n",
       "      <td>C/1/S</td>\n",
       "      <td>TRAPPIST-1e</td>\n",
       "      <td>38.0</td>\n",
       "      <td>False</td>\n",
       "      <td>0.0</td>\n",
       "      <td>6652.0</td>\n",
       "      <td>0.0</td>\n",
       "      <td>181.0</td>\n",
       "      <td>585.0</td>\n",
       "      <td>Meratz Caltilter</td>\n",
       "    </tr>\n",
       "    <tr>\n",
       "      <th>4</th>\n",
       "      <td>0023_01</td>\n",
       "      <td>Earth</td>\n",
       "      <td>False</td>\n",
       "      <td>F/5/S</td>\n",
       "      <td>TRAPPIST-1e</td>\n",
       "      <td>20.0</td>\n",
       "      <td>False</td>\n",
       "      <td>10.0</td>\n",
       "      <td>0.0</td>\n",
       "      <td>635.0</td>\n",
       "      <td>0.0</td>\n",
       "      <td>0.0</td>\n",
       "      <td>Brence Harperez</td>\n",
       "    </tr>\n",
       "  </tbody>\n",
       "</table>\n",
       "</div>"
      ],
      "text/plain": [
       "  PassengerId HomePlanet CryoSleep  Cabin  Destination   Age    VIP  \\\n",
       "0     0013_01      Earth      True  G/3/S  TRAPPIST-1e  27.0  False   \n",
       "1     0018_01      Earth     False  F/4/S  TRAPPIST-1e  19.0  False   \n",
       "2     0019_01     Europa      True  C/0/S  55 Cancri e  31.0  False   \n",
       "3     0021_01     Europa     False  C/1/S  TRAPPIST-1e  38.0  False   \n",
       "4     0023_01      Earth     False  F/5/S  TRAPPIST-1e  20.0  False   \n",
       "\n",
       "   RoomService  FoodCourt  ShoppingMall     Spa  VRDeck              Name  \n",
       "0          0.0        0.0           0.0     0.0     0.0   Nelly Carsoning  \n",
       "1          0.0        9.0           0.0  2823.0     0.0    Lerome Peckers  \n",
       "2          0.0        0.0           0.0     0.0     0.0   Sabih Unhearfus  \n",
       "3          0.0     6652.0           0.0   181.0   585.0  Meratz Caltilter  \n",
       "4         10.0        0.0         635.0     0.0     0.0   Brence Harperez  "
      ]
     },
     "execution_count": 6,
     "metadata": {},
     "output_type": "execute_result"
    }
   ],
   "source": [
    "test_data.head()"
   ]
  },
  {
   "cell_type": "code",
   "execution_count": 7,
   "id": "c7e679d6",
   "metadata": {
    "execution": {
     "iopub.execute_input": "2025-02-18T10:54:07.872885Z",
     "iopub.status.busy": "2025-02-18T10:54:07.872547Z",
     "iopub.status.idle": "2025-02-18T10:54:07.884718Z",
     "shell.execute_reply": "2025-02-18T10:54:07.883231Z"
    },
    "papermill": {
     "duration": 0.02099,
     "end_time": "2025-02-18T10:54:07.886611",
     "exception": false,
     "start_time": "2025-02-18T10:54:07.865621",
     "status": "completed"
    },
    "tags": []
   },
   "outputs": [
    {
     "name": "stdout",
     "output_type": "stream",
     "text": [
      "<class 'pandas.core.frame.DataFrame'>\n",
      "RangeIndex: 4277 entries, 0 to 4276\n",
      "Data columns (total 13 columns):\n",
      " #   Column        Non-Null Count  Dtype  \n",
      "---  ------        --------------  -----  \n",
      " 0   PassengerId   4277 non-null   object \n",
      " 1   HomePlanet    4190 non-null   object \n",
      " 2   CryoSleep     4184 non-null   object \n",
      " 3   Cabin         4177 non-null   object \n",
      " 4   Destination   4185 non-null   object \n",
      " 5   Age           4186 non-null   float64\n",
      " 6   VIP           4184 non-null   object \n",
      " 7   RoomService   4195 non-null   float64\n",
      " 8   FoodCourt     4171 non-null   float64\n",
      " 9   ShoppingMall  4179 non-null   float64\n",
      " 10  Spa           4176 non-null   float64\n",
      " 11  VRDeck        4197 non-null   float64\n",
      " 12  Name          4183 non-null   object \n",
      "dtypes: float64(6), object(7)\n",
      "memory usage: 434.5+ KB\n"
     ]
    }
   ],
   "source": [
    "test_data.info()"
   ]
  },
  {
   "cell_type": "code",
   "execution_count": 8,
   "id": "456feaf1",
   "metadata": {
    "execution": {
     "iopub.execute_input": "2025-02-18T10:54:07.900076Z",
     "iopub.status.busy": "2025-02-18T10:54:07.899700Z",
     "iopub.status.idle": "2025-02-18T10:54:07.909023Z",
     "shell.execute_reply": "2025-02-18T10:54:07.908181Z"
    },
    "papermill": {
     "duration": 0.017946,
     "end_time": "2025-02-18T10:54:07.910791",
     "exception": false,
     "start_time": "2025-02-18T10:54:07.892845",
     "status": "completed"
    },
    "tags": []
   },
   "outputs": [
    {
     "data": {
      "text/plain": [
       "PassengerId       0\n",
       "HomePlanet       87\n",
       "CryoSleep        93\n",
       "Cabin           100\n",
       "Destination      92\n",
       "Age              91\n",
       "VIP              93\n",
       "RoomService      82\n",
       "FoodCourt       106\n",
       "ShoppingMall     98\n",
       "Spa             101\n",
       "VRDeck           80\n",
       "Name             94\n",
       "dtype: int64"
      ]
     },
     "execution_count": 8,
     "metadata": {},
     "output_type": "execute_result"
    }
   ],
   "source": [
    "test_data.isnull().sum()"
   ]
  },
  {
   "cell_type": "code",
   "execution_count": 9,
   "id": "a4a2f1c4",
   "metadata": {
    "execution": {
     "iopub.execute_input": "2025-02-18T10:54:07.924422Z",
     "iopub.status.busy": "2025-02-18T10:54:07.924059Z",
     "iopub.status.idle": "2025-02-18T10:54:07.950473Z",
     "shell.execute_reply": "2025-02-18T10:54:07.949255Z"
    },
    "papermill": {
     "duration": 0.035185,
     "end_time": "2025-02-18T10:54:07.952294",
     "exception": false,
     "start_time": "2025-02-18T10:54:07.917109",
     "status": "completed"
    },
    "tags": []
   },
   "outputs": [
    {
     "name": "stdout",
     "output_type": "stream",
     "text": [
      "PassengerId\n",
      "PassengerId\n",
      "0001_01    1\n",
      "6136_01    1\n",
      "6141_01    1\n",
      "6139_06    1\n",
      "6139_05    1\n",
      "          ..\n",
      "3126_01    1\n",
      "3124_03    1\n",
      "3124_02    1\n",
      "3124_01    1\n",
      "9280_02    1\n",
      "Name: count, Length: 8693, dtype: int64\n",
      "HomePlanet\n",
      "HomePlanet\n",
      "Earth     4602\n",
      "Europa    2131\n",
      "Mars      1759\n",
      "Name: count, dtype: int64\n",
      "CryoSleep\n",
      "CryoSleep\n",
      "False    5439\n",
      "True     3037\n",
      "Name: count, dtype: int64\n",
      "Cabin\n",
      "Cabin\n",
      "G/734/S     8\n",
      "G/109/P     7\n",
      "B/201/P     7\n",
      "G/1368/P    7\n",
      "G/981/S     7\n",
      "           ..\n",
      "G/556/P     1\n",
      "E/231/S     1\n",
      "G/545/S     1\n",
      "G/543/S     1\n",
      "F/947/P     1\n",
      "Name: count, Length: 6560, dtype: int64\n",
      "Destination\n",
      "Destination\n",
      "TRAPPIST-1e      5915\n",
      "55 Cancri e      1800\n",
      "PSO J318.5-22     796\n",
      "Name: count, dtype: int64\n",
      "VIP\n",
      "VIP\n",
      "False    8291\n",
      "True      199\n",
      "Name: count, dtype: int64\n",
      "Name\n",
      "Name\n",
      "Gollux Reedall        2\n",
      "Elaney Webstephrey    2\n",
      "Grake Porki           2\n",
      "Sus Coolez            2\n",
      "Apix Wala             2\n",
      "                     ..\n",
      "Jamela Griffy         1\n",
      "Hardy Griffy          1\n",
      "Salley Mckinn         1\n",
      "Mall Frasp            1\n",
      "Propsh Hontichre      1\n",
      "Name: count, Length: 8473, dtype: int64\n"
     ]
    }
   ],
   "source": [
    "for col in train_data.columns:\n",
    "    if train_data[col].dtype == 'object':\n",
    "        print(col)\n",
    "        print(train_data[col].value_counts())"
   ]
  },
  {
   "cell_type": "code",
   "execution_count": 10,
   "id": "47d14f9d",
   "metadata": {
    "execution": {
     "iopub.execute_input": "2025-02-18T10:54:07.966587Z",
     "iopub.status.busy": "2025-02-18T10:54:07.966156Z",
     "iopub.status.idle": "2025-02-18T10:54:07.972621Z",
     "shell.execute_reply": "2025-02-18T10:54:07.971522Z"
    },
    "papermill": {
     "duration": 0.015495,
     "end_time": "2025-02-18T10:54:07.974365",
     "exception": false,
     "start_time": "2025-02-18T10:54:07.958870",
     "status": "completed"
    },
    "tags": []
   },
   "outputs": [],
   "source": [
    "def clean_data(data):\n",
    "    data.drop_duplicates(inplace = True)\n",
    "    data = data.drop(['Name', 'PassengerId', 'Cabin'], axis = 1)\n",
    "    data['HomePlanet'] = data['HomePlanet'].fillna(data['HomePlanet'].mode()[0])\n",
    "    data['Age'] = data['Age'].fillna(data['Age'].mean())\n",
    "    data['Destination'] = data['Destination'].fillna(data['Destination'].mode()[0])\n",
    "    data[['RoomService', 'FoodCourt', 'ShoppingMall', 'Spa', 'VRDeck']] = data[['RoomService', 'FoodCourt', 'ShoppingMall', 'Spa', \n",
    "                                                                                'VRDeck']].fillna(0)\n",
    "    data[['CryoSleep', 'VIP']] = data[['CryoSleep', 'VIP']].fillna(0).astype(int)\n",
    "\n",
    "    return data"
   ]
  },
  {
   "cell_type": "code",
   "execution_count": 11,
   "id": "55dcf006",
   "metadata": {
    "execution": {
     "iopub.execute_input": "2025-02-18T10:54:07.988231Z",
     "iopub.status.busy": "2025-02-18T10:54:07.987898Z",
     "iopub.status.idle": "2025-02-18T10:54:08.021048Z",
     "shell.execute_reply": "2025-02-18T10:54:08.019810Z"
    },
    "papermill": {
     "duration": 0.04246,
     "end_time": "2025-02-18T10:54:08.023104",
     "exception": false,
     "start_time": "2025-02-18T10:54:07.980644",
     "status": "completed"
    },
    "tags": []
   },
   "outputs": [],
   "source": [
    "cleaned_train_data = clean_data(train_data)\n",
    "cleaned_train_data['Transported'] = cleaned_train_data['Transported'].astype(int)"
   ]
  },
  {
   "cell_type": "code",
   "execution_count": 12,
   "id": "21a5615f",
   "metadata": {
    "execution": {
     "iopub.execute_input": "2025-02-18T10:54:08.037654Z",
     "iopub.status.busy": "2025-02-18T10:54:08.037254Z",
     "iopub.status.idle": "2025-02-18T10:54:08.052466Z",
     "shell.execute_reply": "2025-02-18T10:54:08.051489Z"
    },
    "papermill": {
     "duration": 0.024615,
     "end_time": "2025-02-18T10:54:08.054239",
     "exception": false,
     "start_time": "2025-02-18T10:54:08.029624",
     "status": "completed"
    },
    "tags": []
   },
   "outputs": [
    {
     "data": {
      "text/html": [
       "<div>\n",
       "<style scoped>\n",
       "    .dataframe tbody tr th:only-of-type {\n",
       "        vertical-align: middle;\n",
       "    }\n",
       "\n",
       "    .dataframe tbody tr th {\n",
       "        vertical-align: top;\n",
       "    }\n",
       "\n",
       "    .dataframe thead th {\n",
       "        text-align: right;\n",
       "    }\n",
       "</style>\n",
       "<table border=\"1\" class=\"dataframe\">\n",
       "  <thead>\n",
       "    <tr style=\"text-align: right;\">\n",
       "      <th></th>\n",
       "      <th>HomePlanet</th>\n",
       "      <th>CryoSleep</th>\n",
       "      <th>Destination</th>\n",
       "      <th>Age</th>\n",
       "      <th>VIP</th>\n",
       "      <th>RoomService</th>\n",
       "      <th>FoodCourt</th>\n",
       "      <th>ShoppingMall</th>\n",
       "      <th>Spa</th>\n",
       "      <th>VRDeck</th>\n",
       "      <th>Transported</th>\n",
       "    </tr>\n",
       "  </thead>\n",
       "  <tbody>\n",
       "    <tr>\n",
       "      <th>0</th>\n",
       "      <td>Europa</td>\n",
       "      <td>0</td>\n",
       "      <td>TRAPPIST-1e</td>\n",
       "      <td>39.0</td>\n",
       "      <td>0</td>\n",
       "      <td>0.0</td>\n",
       "      <td>0.0</td>\n",
       "      <td>0.0</td>\n",
       "      <td>0.0</td>\n",
       "      <td>0.0</td>\n",
       "      <td>0</td>\n",
       "    </tr>\n",
       "    <tr>\n",
       "      <th>1</th>\n",
       "      <td>Earth</td>\n",
       "      <td>0</td>\n",
       "      <td>TRAPPIST-1e</td>\n",
       "      <td>24.0</td>\n",
       "      <td>0</td>\n",
       "      <td>109.0</td>\n",
       "      <td>9.0</td>\n",
       "      <td>25.0</td>\n",
       "      <td>549.0</td>\n",
       "      <td>44.0</td>\n",
       "      <td>1</td>\n",
       "    </tr>\n",
       "    <tr>\n",
       "      <th>2</th>\n",
       "      <td>Europa</td>\n",
       "      <td>0</td>\n",
       "      <td>TRAPPIST-1e</td>\n",
       "      <td>58.0</td>\n",
       "      <td>1</td>\n",
       "      <td>43.0</td>\n",
       "      <td>3576.0</td>\n",
       "      <td>0.0</td>\n",
       "      <td>6715.0</td>\n",
       "      <td>49.0</td>\n",
       "      <td>0</td>\n",
       "    </tr>\n",
       "    <tr>\n",
       "      <th>3</th>\n",
       "      <td>Europa</td>\n",
       "      <td>0</td>\n",
       "      <td>TRAPPIST-1e</td>\n",
       "      <td>33.0</td>\n",
       "      <td>0</td>\n",
       "      <td>0.0</td>\n",
       "      <td>1283.0</td>\n",
       "      <td>371.0</td>\n",
       "      <td>3329.0</td>\n",
       "      <td>193.0</td>\n",
       "      <td>0</td>\n",
       "    </tr>\n",
       "    <tr>\n",
       "      <th>4</th>\n",
       "      <td>Earth</td>\n",
       "      <td>0</td>\n",
       "      <td>TRAPPIST-1e</td>\n",
       "      <td>16.0</td>\n",
       "      <td>0</td>\n",
       "      <td>303.0</td>\n",
       "      <td>70.0</td>\n",
       "      <td>151.0</td>\n",
       "      <td>565.0</td>\n",
       "      <td>2.0</td>\n",
       "      <td>1</td>\n",
       "    </tr>\n",
       "  </tbody>\n",
       "</table>\n",
       "</div>"
      ],
      "text/plain": [
       "  HomePlanet  CryoSleep  Destination   Age  VIP  RoomService  FoodCourt  \\\n",
       "0     Europa          0  TRAPPIST-1e  39.0    0          0.0        0.0   \n",
       "1      Earth          0  TRAPPIST-1e  24.0    0        109.0        9.0   \n",
       "2     Europa          0  TRAPPIST-1e  58.0    1         43.0     3576.0   \n",
       "3     Europa          0  TRAPPIST-1e  33.0    0          0.0     1283.0   \n",
       "4      Earth          0  TRAPPIST-1e  16.0    0        303.0       70.0   \n",
       "\n",
       "   ShoppingMall     Spa  VRDeck  Transported  \n",
       "0           0.0     0.0     0.0            0  \n",
       "1          25.0   549.0    44.0            1  \n",
       "2           0.0  6715.0    49.0            0  \n",
       "3         371.0  3329.0   193.0            0  \n",
       "4         151.0   565.0     2.0            1  "
      ]
     },
     "execution_count": 12,
     "metadata": {},
     "output_type": "execute_result"
    }
   ],
   "source": [
    "cleaned_train_data.head()"
   ]
  },
  {
   "cell_type": "code",
   "execution_count": 13,
   "id": "7cbb28d4",
   "metadata": {
    "execution": {
     "iopub.execute_input": "2025-02-18T10:54:08.068836Z",
     "iopub.status.busy": "2025-02-18T10:54:08.068483Z",
     "iopub.status.idle": "2025-02-18T10:54:08.080890Z",
     "shell.execute_reply": "2025-02-18T10:54:08.079641Z"
    },
    "papermill": {
     "duration": 0.021925,
     "end_time": "2025-02-18T10:54:08.082697",
     "exception": false,
     "start_time": "2025-02-18T10:54:08.060772",
     "status": "completed"
    },
    "tags": []
   },
   "outputs": [
    {
     "name": "stdout",
     "output_type": "stream",
     "text": [
      "<class 'pandas.core.frame.DataFrame'>\n",
      "RangeIndex: 8693 entries, 0 to 8692\n",
      "Data columns (total 11 columns):\n",
      " #   Column        Non-Null Count  Dtype  \n",
      "---  ------        --------------  -----  \n",
      " 0   HomePlanet    8693 non-null   object \n",
      " 1   CryoSleep     8693 non-null   int64  \n",
      " 2   Destination   8693 non-null   object \n",
      " 3   Age           8693 non-null   float64\n",
      " 4   VIP           8693 non-null   int64  \n",
      " 5   RoomService   8693 non-null   float64\n",
      " 6   FoodCourt     8693 non-null   float64\n",
      " 7   ShoppingMall  8693 non-null   float64\n",
      " 8   Spa           8693 non-null   float64\n",
      " 9   VRDeck        8693 non-null   float64\n",
      " 10  Transported   8693 non-null   int64  \n",
      "dtypes: float64(6), int64(3), object(2)\n",
      "memory usage: 747.2+ KB\n"
     ]
    }
   ],
   "source": [
    "cleaned_train_data.info()"
   ]
  },
  {
   "cell_type": "code",
   "execution_count": 14,
   "id": "982cc2c9",
   "metadata": {
    "execution": {
     "iopub.execute_input": "2025-02-18T10:54:08.097460Z",
     "iopub.status.busy": "2025-02-18T10:54:08.097103Z",
     "iopub.status.idle": "2025-02-18T10:54:08.133292Z",
     "shell.execute_reply": "2025-02-18T10:54:08.131914Z"
    },
    "papermill": {
     "duration": 0.045745,
     "end_time": "2025-02-18T10:54:08.135251",
     "exception": false,
     "start_time": "2025-02-18T10:54:08.089506",
     "status": "completed"
    },
    "tags": []
   },
   "outputs": [
    {
     "data": {
      "text/html": [
       "<div>\n",
       "<style scoped>\n",
       "    .dataframe tbody tr th:only-of-type {\n",
       "        vertical-align: middle;\n",
       "    }\n",
       "\n",
       "    .dataframe tbody tr th {\n",
       "        vertical-align: top;\n",
       "    }\n",
       "\n",
       "    .dataframe thead th {\n",
       "        text-align: right;\n",
       "    }\n",
       "</style>\n",
       "<table border=\"1\" class=\"dataframe\">\n",
       "  <thead>\n",
       "    <tr style=\"text-align: right;\">\n",
       "      <th></th>\n",
       "      <th>CryoSleep</th>\n",
       "      <th>Age</th>\n",
       "      <th>VIP</th>\n",
       "      <th>RoomService</th>\n",
       "      <th>FoodCourt</th>\n",
       "      <th>ShoppingMall</th>\n",
       "      <th>Spa</th>\n",
       "      <th>VRDeck</th>\n",
       "      <th>Transported</th>\n",
       "    </tr>\n",
       "  </thead>\n",
       "  <tbody>\n",
       "    <tr>\n",
       "      <th>count</th>\n",
       "      <td>8693.000000</td>\n",
       "      <td>8693.000000</td>\n",
       "      <td>8693.000000</td>\n",
       "      <td>8693.000000</td>\n",
       "      <td>8693.000000</td>\n",
       "      <td>8693.000000</td>\n",
       "      <td>8693.000000</td>\n",
       "      <td>8693.000000</td>\n",
       "      <td>8693.000000</td>\n",
       "    </tr>\n",
       "    <tr>\n",
       "      <th>mean</th>\n",
       "      <td>0.349362</td>\n",
       "      <td>28.827930</td>\n",
       "      <td>0.022892</td>\n",
       "      <td>220.009318</td>\n",
       "      <td>448.434027</td>\n",
       "      <td>169.572300</td>\n",
       "      <td>304.588865</td>\n",
       "      <td>298.261820</td>\n",
       "      <td>0.503624</td>\n",
       "    </tr>\n",
       "    <tr>\n",
       "      <th>std</th>\n",
       "      <td>0.476796</td>\n",
       "      <td>14.339054</td>\n",
       "      <td>0.149568</td>\n",
       "      <td>660.519050</td>\n",
       "      <td>1595.790627</td>\n",
       "      <td>598.007164</td>\n",
       "      <td>1125.562559</td>\n",
       "      <td>1134.126417</td>\n",
       "      <td>0.500016</td>\n",
       "    </tr>\n",
       "    <tr>\n",
       "      <th>min</th>\n",
       "      <td>0.000000</td>\n",
       "      <td>0.000000</td>\n",
       "      <td>0.000000</td>\n",
       "      <td>0.000000</td>\n",
       "      <td>0.000000</td>\n",
       "      <td>0.000000</td>\n",
       "      <td>0.000000</td>\n",
       "      <td>0.000000</td>\n",
       "      <td>0.000000</td>\n",
       "    </tr>\n",
       "    <tr>\n",
       "      <th>25%</th>\n",
       "      <td>0.000000</td>\n",
       "      <td>20.000000</td>\n",
       "      <td>0.000000</td>\n",
       "      <td>0.000000</td>\n",
       "      <td>0.000000</td>\n",
       "      <td>0.000000</td>\n",
       "      <td>0.000000</td>\n",
       "      <td>0.000000</td>\n",
       "      <td>0.000000</td>\n",
       "    </tr>\n",
       "    <tr>\n",
       "      <th>50%</th>\n",
       "      <td>0.000000</td>\n",
       "      <td>27.000000</td>\n",
       "      <td>0.000000</td>\n",
       "      <td>0.000000</td>\n",
       "      <td>0.000000</td>\n",
       "      <td>0.000000</td>\n",
       "      <td>0.000000</td>\n",
       "      <td>0.000000</td>\n",
       "      <td>1.000000</td>\n",
       "    </tr>\n",
       "    <tr>\n",
       "      <th>75%</th>\n",
       "      <td>1.000000</td>\n",
       "      <td>37.000000</td>\n",
       "      <td>0.000000</td>\n",
       "      <td>41.000000</td>\n",
       "      <td>61.000000</td>\n",
       "      <td>22.000000</td>\n",
       "      <td>53.000000</td>\n",
       "      <td>40.000000</td>\n",
       "      <td>1.000000</td>\n",
       "    </tr>\n",
       "    <tr>\n",
       "      <th>max</th>\n",
       "      <td>1.000000</td>\n",
       "      <td>79.000000</td>\n",
       "      <td>1.000000</td>\n",
       "      <td>14327.000000</td>\n",
       "      <td>29813.000000</td>\n",
       "      <td>23492.000000</td>\n",
       "      <td>22408.000000</td>\n",
       "      <td>24133.000000</td>\n",
       "      <td>1.000000</td>\n",
       "    </tr>\n",
       "  </tbody>\n",
       "</table>\n",
       "</div>"
      ],
      "text/plain": [
       "         CryoSleep          Age          VIP   RoomService     FoodCourt  \\\n",
       "count  8693.000000  8693.000000  8693.000000   8693.000000   8693.000000   \n",
       "mean      0.349362    28.827930     0.022892    220.009318    448.434027   \n",
       "std       0.476796    14.339054     0.149568    660.519050   1595.790627   \n",
       "min       0.000000     0.000000     0.000000      0.000000      0.000000   \n",
       "25%       0.000000    20.000000     0.000000      0.000000      0.000000   \n",
       "50%       0.000000    27.000000     0.000000      0.000000      0.000000   \n",
       "75%       1.000000    37.000000     0.000000     41.000000     61.000000   \n",
       "max       1.000000    79.000000     1.000000  14327.000000  29813.000000   \n",
       "\n",
       "       ShoppingMall           Spa        VRDeck  Transported  \n",
       "count   8693.000000   8693.000000   8693.000000  8693.000000  \n",
       "mean     169.572300    304.588865    298.261820     0.503624  \n",
       "std      598.007164   1125.562559   1134.126417     0.500016  \n",
       "min        0.000000      0.000000      0.000000     0.000000  \n",
       "25%        0.000000      0.000000      0.000000     0.000000  \n",
       "50%        0.000000      0.000000      0.000000     1.000000  \n",
       "75%       22.000000     53.000000     40.000000     1.000000  \n",
       "max    23492.000000  22408.000000  24133.000000     1.000000  "
      ]
     },
     "execution_count": 14,
     "metadata": {},
     "output_type": "execute_result"
    }
   ],
   "source": [
    "cleaned_train_data.describe()"
   ]
  },
  {
   "cell_type": "code",
   "execution_count": 15,
   "id": "3b227a80",
   "metadata": {
    "execution": {
     "iopub.execute_input": "2025-02-18T10:54:08.150202Z",
     "iopub.status.busy": "2025-02-18T10:54:08.149835Z",
     "iopub.status.idle": "2025-02-18T10:54:08.157321Z",
     "shell.execute_reply": "2025-02-18T10:54:08.156164Z"
    },
    "papermill": {
     "duration": 0.016906,
     "end_time": "2025-02-18T10:54:08.159223",
     "exception": false,
     "start_time": "2025-02-18T10:54:08.142317",
     "status": "completed"
    },
    "tags": []
   },
   "outputs": [
    {
     "name": "stdout",
     "output_type": "stream",
     "text": [
      "Index(['Age', 'RoomService', 'FoodCourt', 'ShoppingMall', 'Spa', 'VRDeck'], dtype='object')\n"
     ]
    }
   ],
   "source": [
    "num_cols = cleaned_train_data[['Age', 'RoomService', 'FoodCourt', 'ShoppingMall', 'Spa', 'VRDeck']].columns\n",
    "print(num_cols)"
   ]
  },
  {
   "cell_type": "code",
   "execution_count": 16,
   "id": "a3877f38",
   "metadata": {
    "execution": {
     "iopub.execute_input": "2025-02-18T10:54:08.174783Z",
     "iopub.status.busy": "2025-02-18T10:54:08.174345Z",
     "iopub.status.idle": "2025-02-18T10:54:50.147361Z",
     "shell.execute_reply": "2025-02-18T10:54:50.146090Z"
    },
    "papermill": {
     "duration": 41.991354,
     "end_time": "2025-02-18T10:54:50.158053",
     "exception": false,
     "start_time": "2025-02-18T10:54:08.166699",
     "status": "completed"
    },
    "tags": []
   },
   "outputs": [
    {
     "name": "stderr",
     "output_type": "stream",
     "text": [
      "/usr/local/lib/python3.10/dist-packages/seaborn/_oldcore.py:1119: FutureWarning: use_inf_as_na option is deprecated and will be removed in a future version. Convert inf values to NaN before operating instead.\n",
      "  with pd.option_context('mode.use_inf_as_na', True):\n",
      "/usr/local/lib/python3.10/dist-packages/seaborn/_oldcore.py:1119: FutureWarning: use_inf_as_na option is deprecated and will be removed in a future version. Convert inf values to NaN before operating instead.\n",
      "  with pd.option_context('mode.use_inf_as_na', True):\n",
      "/usr/local/lib/python3.10/dist-packages/seaborn/_oldcore.py:1119: FutureWarning: use_inf_as_na option is deprecated and will be removed in a future version. Convert inf values to NaN before operating instead.\n",
      "  with pd.option_context('mode.use_inf_as_na', True):\n",
      "/usr/local/lib/python3.10/dist-packages/seaborn/_oldcore.py:1119: FutureWarning: use_inf_as_na option is deprecated and will be removed in a future version. Convert inf values to NaN before operating instead.\n",
      "  with pd.option_context('mode.use_inf_as_na', True):\n",
      "/usr/local/lib/python3.10/dist-packages/seaborn/_oldcore.py:1119: FutureWarning: use_inf_as_na option is deprecated and will be removed in a future version. Convert inf values to NaN before operating instead.\n",
      "  with pd.option_context('mode.use_inf_as_na', True):\n",
      "/usr/local/lib/python3.10/dist-packages/seaborn/_oldcore.py:1119: FutureWarning: use_inf_as_na option is deprecated and will be removed in a future version. Convert inf values to NaN before operating instead.\n",
      "  with pd.option_context('mode.use_inf_as_na', True):\n"
     ]
    },
    {
     "data": {
      "image/png": "[encoded data removed]",
      "text/plain": [
       "<Figure size 2000x1000 with 6 Axes>"
      ]
     },
     "metadata": {},
     "output_type": "display_data"
    }
   ],
   "source": [
    "fig, ax = plt.subplots(2, 3, figsize = (20, 10))\n",
    "\n",
    "for i in range(len(num_cols)):\n",
    "    sns.histplot(cleaned_train_data[num_cols[i]], ax = ax[i//3, i%3])\n",
    "    ax[i//3, i%3].set_title(num_cols[i])\n",
    "\n",
    "plt.show()"
   ]
  },
  {
   "cell_type": "code",
   "execution_count": 17,
   "id": "3a456252",
   "metadata": {
    "execution": {
     "iopub.execute_input": "2025-02-18T10:54:50.178612Z",
     "iopub.status.busy": "2025-02-18T10:54:50.178211Z",
     "iopub.status.idle": "2025-02-18T10:54:50.898518Z",
     "shell.execute_reply": "2025-02-18T10:54:50.897275Z"
    },
    "papermill": {
     "duration": 0.73234,
     "end_time": "2025-02-18T10:54:50.900694",
     "exception": false,
     "start_time": "2025-02-18T10:54:50.168354",
     "status": "completed"
    },
    "tags": []
   },
   "outputs": [],
   "source": [
    "from sklearn.preprocessing import LabelEncoder, StandardScaler\n",
    "from sklearn.ensemble import RandomForestClassifier, GradientBoostingClassifier\n",
    "from sklearn.model_selection import train_test_split, GridSearchCV\n",
    "from sklearn.metrics import accuracy_score\n",
    "from sklearn.pipeline import Pipeline"
   ]
  },
  {
   "cell_type": "code",
   "execution_count": 18,
   "id": "8051a4df",
   "metadata": {
    "execution": {
     "iopub.execute_input": "2025-02-18T10:54:50.922005Z",
     "iopub.status.busy": "2025-02-18T10:54:50.921614Z",
     "iopub.status.idle": "2025-02-18T10:54:50.940986Z",
     "shell.execute_reply": "2025-02-18T10:54:50.939194Z"
    },
    "papermill": {
     "duration": 0.031873,
     "end_time": "2025-02-18T10:54:50.943067",
     "exception": false,
     "start_time": "2025-02-18T10:54:50.911194",
     "status": "completed"
    },
    "tags": []
   },
   "outputs": [
    {
     "name": "stdout",
     "output_type": "stream",
     "text": [
      "   HomePlanet  CryoSleep  Destination   Age  VIP  RoomService  FoodCourt  \\\n",
      "0           1          0            2  39.0    0          0.0        0.0   \n",
      "1           0          0            2  24.0    0        109.0        9.0   \n",
      "2           1          0            2  58.0    1         43.0     3576.0   \n",
      "3           1          0            2  33.0    0          0.0     1283.0   \n",
      "4           0          0            2  16.0    0        303.0       70.0   \n",
      "\n",
      "   ShoppingMall     Spa  VRDeck  \n",
      "0           0.0     0.0     0.0  \n",
      "1          25.0   549.0    44.0  \n",
      "2           0.0  6715.0    49.0  \n",
      "3         371.0  3329.0   193.0  \n",
      "4         151.0   565.0     2.0  \n",
      "0    0\n",
      "1    1\n",
      "2    0\n",
      "3    0\n",
      "4    1\n",
      "Name: Transported, dtype: int64\n"
     ]
    }
   ],
   "source": [
    "features = cleaned_train_data.drop('Transported', axis = 1)\n",
    "labels = cleaned_train_data['Transported']\n",
    "\n",
    "label_encoder = LabelEncoder()\n",
    "\n",
    "features['HomePlanet'] = label_encoder.fit_transform(features['HomePlanet'])\n",
    "features['Destination'] = label_encoder.fit_transform(features['Destination'])\n",
    "\n",
    "\n",
    "print(features.head())\n",
    "print(labels.head())"
   ]
  },
  {
   "cell_type": "code",
   "execution_count": 19,
   "id": "d7957053",
   "metadata": {
    "execution": {
     "iopub.execute_input": "2025-02-18T10:54:50.963739Z",
     "iopub.status.busy": "2025-02-18T10:54:50.963072Z",
     "iopub.status.idle": "2025-02-18T10:54:50.978883Z",
     "shell.execute_reply": "2025-02-18T10:54:50.977287Z"
    },
    "papermill": {
     "duration": 0.02896,
     "end_time": "2025-02-18T10:54:50.981024",
     "exception": false,
     "start_time": "2025-02-18T10:54:50.952064",
     "status": "completed"
    },
    "tags": []
   },
   "outputs": [
    {
     "name": "stdout",
     "output_type": "stream",
     "text": [
      "(6085, 10) (2608, 10) (6085,) (2608,)\n"
     ]
    }
   ],
   "source": [
    "X_train, X_test, y_train, y_test = train_test_split(features, labels, test_size = 0.3, random_state = 47, stratify = labels)\n",
    "\n",
    "print(X_train.shape, X_test.shape, y_train.shape, y_test.shape)"
   ]
  },
  {
   "cell_type": "code",
   "execution_count": 20,
   "id": "6c5ab5f1",
   "metadata": {
    "execution": {
     "iopub.execute_input": "2025-02-18T10:54:51.000399Z",
     "iopub.status.busy": "2025-02-18T10:54:51.000020Z",
     "iopub.status.idle": "2025-02-18T10:57:14.929402Z",
     "shell.execute_reply": "2025-02-18T10:57:14.928132Z"
    },
    "papermill": {
     "duration": 143.950412,
     "end_time": "2025-02-18T10:57:14.940419",
     "exception": false,
     "start_time": "2025-02-18T10:54:50.990007",
     "status": "completed"
    },
    "tags": []
   },
   "outputs": [
    {
     "name": "stdout",
     "output_type": "stream",
     "text": [
      "Fitting 5 folds for each of 48 candidates, totalling 240 fits\n"
     ]
    },
    {
     "data": {
      "text/html": [
       "<style>#sk-container-id-1 {color: black;background-color: white;}#sk-container-id-1 pre{padding: 0;}#sk-container-id-1 div.sk-toggleable {background-color: white;}#sk-container-id-1 label.sk-toggleable__label {cursor: pointer;display: block;width: 100%;margin-bottom: 0;padding: 0.3em;box-sizing: border-box;text-align: center;}#sk-container-id-1 label.sk-toggleable__label-arrow:before {content: \"▸\";float: left;margin-right: 0.25em;color: #696969;}#sk-container-id-1 label.sk-toggleable__label-arrow:hover:before {color: black;}#sk-container-id-1 div.sk-estimator:hover label.sk-toggleable__label-arrow:before {color: black;}#sk-container-id-1 div.sk-toggleable__content {max-height: 0;max-width: 0;overflow: hidden;text-align: left;background-color: #f0f8ff;}#sk-container-id-1 div.sk-toggleable__content pre {margin: 0.2em;color: black;border-radius: 0.25em;background-color: #f0f8ff;}#sk-container-id-1 input.sk-toggleable__control:checked~div.sk-toggleable__content {max-height: 200px;max-width: 100%;overflow: auto;}#sk-container-id-1 input.sk-toggleable__control:checked~label.sk-toggleable__label-arrow:before {content: \"▾\";}#sk-container-id-1 div.sk-estimator input.sk-toggleable__control:checked~label.sk-toggleable__label {background-color: #d4ebff;}#sk-container-id-1 div.sk-label input.sk-toggleable__control:checked~label.sk-toggleable__label {background-color: #d4ebff;}#sk-container-id-1 input.sk-hidden--visually {border: 0;clip: rect(1px 1px 1px 1px);clip: rect(1px, 1px, 1px, 1px);height: 1px;margin: -1px;overflow: hidden;padding: 0;position: absolute;width: 1px;}#sk-container-id-1 div.sk-estimator {font-family: monospace;background-color: #f0f8ff;border: 1px dotted black;border-radius: 0.25em;box-sizing: border-box;margin-bottom: 0.5em;}#sk-container-id-1 div.sk-estimator:hover {background-color: #d4ebff;}#sk-container-id-1 div.sk-parallel-item::after {content: \"\";width: 100%;border-bottom: 1px solid gray;flex-grow: 1;}#sk-container-id-1 div.sk-label:hover label.sk-toggleable__label {background-color: #d4ebff;}#sk-container-id-1 div.sk-serial::before {content: \"\";position: absolute;border-left: 1px solid gray;box-sizing: border-box;top: 0;bottom: 0;left: 50%;z-index: 0;}#sk-container-id-1 div.sk-serial {display: flex;flex-direction: column;align-items: center;background-color: white;padding-right: 0.2em;padding-left: 0.2em;position: relative;}#sk-container-id-1 div.sk-item {position: relative;z-index: 1;}#sk-container-id-1 div.sk-parallel {display: flex;align-items: stretch;justify-content: center;background-color: white;position: relative;}#sk-container-id-1 div.sk-item::before, #sk-container-id-1 div.sk-parallel-item::before {content: \"\";position: absolute;border-left: 1px solid gray;box-sizing: border-box;top: 0;bottom: 0;left: 50%;z-index: -1;}#sk-container-id-1 div.sk-parallel-item {display: flex;flex-direction: column;z-index: 1;position: relative;background-color: white;}#sk-container-id-1 div.sk-parallel-item:first-child::after {align-self: flex-end;width: 50%;}#sk-container-id-1 div.sk-parallel-item:last-child::after {align-self: flex-start;width: 50%;}#sk-container-id-1 div.sk-parallel-item:only-child::after {width: 0;}#sk-container-id-1 div.sk-dashed-wrapped {border: 1px dashed gray;margin: 0 0.4em 0.5em 0.4em;box-sizing: border-box;padding-bottom: 0.4em;background-color: white;}#sk-container-id-1 div.sk-label label {font-family: monospace;font-weight: bold;display: inline-block;line-height: 1.2em;}#sk-container-id-1 div.sk-label-container {text-align: center;}#sk-container-id-1 div.sk-container {/* jupyter's `normalize.less` sets `[hidden] { display: none; }` but bootstrap.min.css set `[hidden] { display: none !important; }` so we also need the `!important` here to be able to override the default hidden behavior on the sphinx rendered scikit-learn.org. See: https://github.com/scikit-learn/scikit-learn/issues/21755 */display: inline-block !important;position: relative;}#sk-container-id-1 div.sk-text-repr-fallback {display: none;}</style><div id=\"sk-container-id-1\" class=\"sk-top-container\"><div class=\"sk-text-repr-fallback\"><pre>GridSearchCV(cv=5, estimator=GradientBoostingClassifier(random_state=47),\n",
       "             n_jobs=-1,\n",
       "             param_grid={&#x27;learning_rate&#x27;: [0.01, 0.1, 1],\n",
       "                         &#x27;max_depth&#x27;: [3, 5, 7, 9],\n",
       "                         &#x27;n_estimators&#x27;: [50, 100, 150, 200]},\n",
       "             verbose=1)</pre><b>In a Jupyter environment, please rerun this cell to show the HTML representation or trust the notebook. <br />On GitHub, the HTML representation is unable to render, please try loading this page with nbviewer.org.</b></div><div class=\"sk-container\" hidden><div class=\"sk-item sk-dashed-wrapped\"><div class=\"sk-label-container\"><div class=\"sk-label sk-toggleable\"><input class=\"sk-toggleable__control sk-hidden--visually\" id=\"sk-estimator-id-1\" type=\"checkbox\" ><label for=\"sk-estimator-id-1\" class=\"sk-toggleable__label sk-toggleable__label-arrow\">GridSearchCV</label><div class=\"sk-toggleable__content\"><pre>GridSearchCV(cv=5, estimator=GradientBoostingClassifier(random_state=47),\n",
       "             n_jobs=-1,\n",
       "             param_grid={&#x27;learning_rate&#x27;: [0.01, 0.1, 1],\n",
       "                         &#x27;max_depth&#x27;: [3, 5, 7, 9],\n",
       "                         &#x27;n_estimators&#x27;: [50, 100, 150, 200]},\n",
       "             verbose=1)</pre></div></div></div><div class=\"sk-parallel\"><div class=\"sk-parallel-item\"><div class=\"sk-item\"><div class=\"sk-label-container\"><div class=\"sk-label sk-toggleable\"><input class=\"sk-toggleable__control sk-hidden--visually\" id=\"sk-estimator-id-2\" type=\"checkbox\" ><label for=\"sk-estimator-id-2\" class=\"sk-toggleable__label sk-toggleable__label-arrow\">estimator: GradientBoostingClassifier</label><div class=\"sk-toggleable__content\"><pre>GradientBoostingClassifier(random_state=47)</pre></div></div></div><div class=\"sk-serial\"><div class=\"sk-item\"><div class=\"sk-estimator sk-toggleable\"><input class=\"sk-toggleable__control sk-hidden--visually\" id=\"sk-estimator-id-3\" type=\"checkbox\" ><label for=\"sk-estimator-id-3\" class=\"sk-toggleable__label sk-toggleable__label-arrow\">GradientBoostingClassifier</label><div class=\"sk-toggleable__content\"><pre>GradientBoostingClassifier(random_state=47)</pre></div></div></div></div></div></div></div></div></div></div>"
      ],
      "text/plain": [
       "GridSearchCV(cv=5, estimator=GradientBoostingClassifier(random_state=47),\n",
       "             n_jobs=-1,\n",
       "             param_grid={'learning_rate': [0.01, 0.1, 1],\n",
       "                         'max_depth': [3, 5, 7, 9],\n",
       "                         'n_estimators': [50, 100, 150, 200]},\n",
       "             verbose=1)"
      ]
     },
     "execution_count": 20,
     "metadata": {},
     "output_type": "execute_result"
    }
   ],
   "source": [
    "scaler = StandardScaler()\n",
    "\n",
    "X_train_scaled = scaler.fit_transform(X_train)\n",
    "X_test_scaled = scaler.transform(X_test)\n",
    "\n",
    "gb_clf = GradientBoostingClassifier(random_state = 47)\n",
    "params = {'n_estimators': [50, 100, 150, 200], 'learning_rate': [0.01, 0.1, 1], 'max_depth': [3, 5, 7, 9]}\n",
    "\n",
    "grid_search = GridSearchCV(gb_clf, param_grid = params, cv = 5, n_jobs = -1, verbose = 1)\n",
    "grid_search.fit(X_train_scaled, y_train)"
   ]
  },
  {
   "cell_type": "code",
   "execution_count": 21,
   "id": "089922a8",
   "metadata": {
    "execution": {
     "iopub.execute_input": "2025-02-18T10:57:14.959688Z",
     "iopub.status.busy": "2025-02-18T10:57:14.959284Z",
     "iopub.status.idle": "2025-02-18T10:57:14.964778Z",
     "shell.execute_reply": "2025-02-18T10:57:14.963757Z"
    },
    "papermill": {
     "duration": 0.017056,
     "end_time": "2025-02-18T10:57:14.966402",
     "exception": false,
     "start_time": "2025-02-18T10:57:14.949346",
     "status": "completed"
    },
    "tags": []
   },
   "outputs": [],
   "source": [
    "best_estimator = grid_search.best_estimator_"
   ]
  },
  {
   "cell_type": "code",
   "execution_count": 22,
   "id": "94ad930e",
   "metadata": {
    "execution": {
     "iopub.execute_input": "2025-02-18T10:57:14.987011Z",
     "iopub.status.busy": "2025-02-18T10:57:14.986653Z",
     "iopub.status.idle": "2025-02-18T10:57:15.013557Z",
     "shell.execute_reply": "2025-02-18T10:57:15.012227Z"
    },
    "papermill": {
     "duration": 0.039438,
     "end_time": "2025-02-18T10:57:15.015514",
     "exception": false,
     "start_time": "2025-02-18T10:57:14.976076",
     "status": "completed"
    },
    "tags": []
   },
   "outputs": [
    {
     "name": "stdout",
     "output_type": "stream",
     "text": [
      "Accuracy: 0.7994631901840491\n"
     ]
    }
   ],
   "source": [
    "y_pred = best_estimator.predict(X_test_scaled)\n",
    "accuracy = accuracy_score(y_test, y_pred)\n",
    "print('Accuracy:', accuracy)"
   ]
  },
  {
   "cell_type": "code",
   "execution_count": 23,
   "id": "4445db32",
   "metadata": {
    "execution": {
     "iopub.execute_input": "2025-02-18T10:57:15.036209Z",
     "iopub.status.busy": "2025-02-18T10:57:15.035839Z",
     "iopub.status.idle": "2025-02-18T10:57:15.065879Z",
     "shell.execute_reply": "2025-02-18T10:57:15.064678Z"
    },
    "papermill": {
     "duration": 0.043038,
     "end_time": "2025-02-18T10:57:15.067884",
     "exception": false,
     "start_time": "2025-02-18T10:57:15.024846",
     "status": "completed"
    },
    "tags": []
   },
   "outputs": [
    {
     "data": {
      "text/plain": [
       "array([[-0.82806407,  1.35920922,  0.62698639, ..., -0.269935  ,\n",
       "        -0.27647035, -0.26492491],\n",
       "       [-0.82806407, -0.73572191,  0.62698639, ..., -0.269935  ,\n",
       "         2.16778237, -0.26492491],\n",
       "       [ 0.42911404,  1.35920922, -1.82258804, ..., -0.269935  ,\n",
       "        -0.27647035, -0.26492491],\n",
       "       ...,\n",
       "       [ 1.68629216,  1.35920922, -1.82258804, ..., -0.269935  ,\n",
       "        -0.27647035, -0.26492491],\n",
       "       [ 0.42911404, -0.73572191,  1.8517736 , ..., -0.269935  ,\n",
       "        -0.27647035,  0.18748599],\n",
       "       [-0.82806407,  1.35920922, -0.59780082, ..., -0.269935  ,\n",
       "        -0.27647035, -0.26492491]])"
      ]
     },
     "execution_count": 23,
     "metadata": {},
     "output_type": "execute_result"
    }
   ],
   "source": [
    "clean_test_data = clean_data(test_data)\n",
    "clean_test_data['HomePlanet'] = label_encoder.fit_transform(test_data['HomePlanet'])\n",
    "clean_test_data['Destination'] = label_encoder.fit_transform(test_data['Destination'])\n",
    "\n",
    "clean_test_data_scaled = scaler.transform(clean_test_data)\n",
    "clean_test_data_scaled"
   ]
  },
  {
   "cell_type": "code",
   "execution_count": 24,
   "id": "e1d6605c",
   "metadata": {
    "execution": {
     "iopub.execute_input": "2025-02-18T10:57:15.088322Z",
     "iopub.status.busy": "2025-02-18T10:57:15.087955Z",
     "iopub.status.idle": "2025-02-18T10:57:18.344186Z",
     "shell.execute_reply": "2025-02-18T10:57:18.343163Z"
    },
    "papermill": {
     "duration": 3.269229,
     "end_time": "2025-02-18T10:57:18.346399",
     "exception": false,
     "start_time": "2025-02-18T10:57:15.077170",
     "status": "completed"
    },
    "tags": []
   },
   "outputs": [
    {
     "data": {
      "text/plain": [
       "array([ True, False,  True, ...,  True, False, False])"
      ]
     },
     "execution_count": 24,
     "metadata": {},
     "output_type": "execute_result"
    }
   ],
   "source": [
    "transformed_features = scaler.transform(features)\n",
    "\n",
    "best_gb_clf = GradientBoostingClassifier(learning_rate = 0.01, max_depth =7, n_estimators = 150, random_state = 47)\n",
    "best_gb_clf.fit(transformed_features, labels)\n",
    "\n",
    "predictions = best_gb_clf.predict(clean_test_data_scaled)\n",
    "predictions = predictions > 0.5\n",
    "predictions"
   ]
  },
  {
   "cell_type": "code",
   "execution_count": 25,
   "id": "1abdb132",
   "metadata": {
    "execution": {
     "iopub.execute_input": "2025-02-18T10:57:18.366937Z",
     "iopub.status.busy": "2025-02-18T10:57:18.366555Z",
     "iopub.status.idle": "2025-02-18T10:57:18.387067Z",
     "shell.execute_reply": "2025-02-18T10:57:18.385911Z"
    },
    "papermill": {
     "duration": 0.032718,
     "end_time": "2025-02-18T10:57:18.389012",
     "exception": false,
     "start_time": "2025-02-18T10:57:18.356294",
     "status": "completed"
    },
    "tags": []
   },
   "outputs": [
    {
     "data": {
      "text/html": [
       "<div>\n",
       "<style scoped>\n",
       "    .dataframe tbody tr th:only-of-type {\n",
       "        vertical-align: middle;\n",
       "    }\n",
       "\n",
       "    .dataframe tbody tr th {\n",
       "        vertical-align: top;\n",
       "    }\n",
       "\n",
       "    .dataframe thead th {\n",
       "        text-align: right;\n",
       "    }\n",
       "</style>\n",
       "<table border=\"1\" class=\"dataframe\">\n",
       "  <thead>\n",
       "    <tr style=\"text-align: right;\">\n",
       "      <th></th>\n",
       "      <th>PassengerId</th>\n",
       "      <th>Transported</th>\n",
       "    </tr>\n",
       "  </thead>\n",
       "  <tbody>\n",
       "    <tr>\n",
       "      <th>0</th>\n",
       "      <td>0013_01</td>\n",
       "      <td>True</td>\n",
       "    </tr>\n",
       "    <tr>\n",
       "      <th>1</th>\n",
       "      <td>0018_01</td>\n",
       "      <td>False</td>\n",
       "    </tr>\n",
       "    <tr>\n",
       "      <th>2</th>\n",
       "      <td>0019_01</td>\n",
       "      <td>True</td>\n",
       "    </tr>\n",
       "    <tr>\n",
       "      <th>3</th>\n",
       "      <td>0021_01</td>\n",
       "      <td>True</td>\n",
       "    </tr>\n",
       "    <tr>\n",
       "      <th>4</th>\n",
       "      <td>0023_01</td>\n",
       "      <td>True</td>\n",
       "    </tr>\n",
       "  </tbody>\n",
       "</table>\n",
       "</div>"
      ],
      "text/plain": [
       "  PassengerId  Transported\n",
       "0     0013_01         True\n",
       "1     0018_01        False\n",
       "2     0019_01         True\n",
       "3     0021_01         True\n",
       "4     0023_01         True"
      ]
     },
     "execution_count": 25,
     "metadata": {},
     "output_type": "execute_result"
    }
   ],
   "source": [
    "output = pd.DataFrame({'PassengerId': test_data.PassengerId, 'Transported': predictions})\n",
    "output.to_csv('submission.csv', index = False)\n",
    "output.head()"
   ]
  },
  {
   "cell_type": "code",
   "execution_count": null,
   "id": "94eb5e23",
   "metadata": {
    "papermill": {
     "duration": 0.008989,
     "end_time": "2025-02-18T10:57:18.407923",
     "exception": false,
     "start_time": "2025-02-18T10:57:18.398934",
     "status": "completed"
    },
    "tags": []
   },
   "outputs": [],
   "source": []
  }
 ],
 "metadata": {
  "kaggle": {
   "accelerator": "none",
   "dataSources": [
    {
     "databundleVersionId": 3220602,
     "sourceId": 34377,
     "sourceType": "competition"
    }
   ],
   "dockerImageVersionId": 30886,
   "isGpuEnabled": false,
   "isInternetEnabled": true,
   "language": "python",
   "sourceType": "notebook"
  },
  "kernelspec": {
   "display_name": "Python 3",
   "language": "python",
   "name": "python3"
  },
  "language_info": {
   "codemirror_mode": {
    "name": "ipython",
    "version": 3
   },
   "file_extension": ".py",
   "mimetype": "text/x-python",
   "name": "python",
   "nbconvert_exporter": "python",
   "pygments_lexer": "ipython3",
   "version": "3.10.12"
  },
  "papermill": {
   "default_parameters": {},
   "duration": 199.872368,
   "end_time": "2025-02-18T10:57:21.696383",
   "environment_variables": {},
   "exception": null,
   "input_path": "__notebook__.ipynb",
   "output_path": "__notebook__.ipynb",
   "parameters": {},
   "start_time": "2025-02-18T10:54:01.824015",
   "version": "2.6.0"
  }
 },
 "nbformat": 4,
 "nbformat_minor": 5
}
